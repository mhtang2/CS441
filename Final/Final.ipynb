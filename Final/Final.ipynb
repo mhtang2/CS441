{
 "cells": [
  {
   "cell_type": "code",
   "execution_count": 39,
   "metadata": {},
   "outputs": [],
   "source": [
    "import torch\n",
    "import pandas as pd\n",
    "import numpy as np\n",
    "from sklearn.preprocessing import StandardScaler\n",
    "from sklearn.model_selection import train_test_split\n",
    "from sklearn.linear_model import Ridge\n",
    "from sklearn.metrics import root_mean_squared_error\n",
    "from sklearn.model_selection import GridSearchCV\n",
    "from sklearn.ensemble import GradientBoostingRegressor\n",
    "from sklearn.neural_network import MLPRegressor\n",
    "from sklearn.base import clone\n",
    "from matplotlib import pyplot as plt"
   ]
  },
  {
   "cell_type": "markdown",
   "metadata": {},
   "source": [
    "# Load data"
   ]
  },
  {
   "cell_type": "code",
   "execution_count": 2,
   "metadata": {},
   "outputs": [
    {
     "name": "stdout",
     "output_type": "stream",
     "text": [
      "1168 292\n"
     ]
    }
   ],
   "source": [
    "def loadData(path, filter_numeric=True):\n",
    "    df = pd.read_csv(path,keep_default_na=False)\n",
    "    df = df.drop(columns=['Id'])\n",
    "    if filter_numeric:\n",
    "        numeric_columns = df.select_dtypes(include=['float64', 'int64']).columns\n",
    "        df = df[numeric_columns]\n",
    "\n",
    "    return df\n",
    "\n",
    "df = loadData(\"train.csv\")\n",
    "X = df.drop(columns=['SalePrice'])\n",
    "Y = df[['SalePrice']]\n",
    "\n",
    "X_train, X_test, y_train, y_test = train_test_split(X, Y, test_size=0.2, random_state=42)\n",
    "print(len(X_train),len(X_test))"
   ]
  },
  {
   "cell_type": "code",
   "execution_count": 3,
   "metadata": {},
   "outputs": [],
   "source": [
    "# Standardize data\n",
    "scaler_X = StandardScaler()\n",
    "scaler_Y = StandardScaler()\n",
    "scaler_X.fit(X_train)\n",
    "scaler_Y.fit(y_train)\n",
    "\n",
    "X_train_scaled = scaler_X.transform(X_train)\n",
    "X_test_scaled = scaler_X.transform(X_test)\n",
    "\n",
    "y_train_scaled = scaler_Y.transform(y_train)\n",
    "y_test_scaled = scaler_Y.transform(y_test)\n"
   ]
  },
  {
   "cell_type": "markdown",
   "metadata": {},
   "source": [
    "# Search parameters"
   ]
  },
  {
   "cell_type": "code",
   "execution_count": 37,
   "metadata": {},
   "outputs": [],
   "source": [
    "# Grid serach params\n",
    "def param_search(model, params, X, y, verbose=1, K=5):\n",
    "    grid_search = GridSearchCV(\n",
    "        model, params, cv=K, scoring='neg_mean_squared_error', refit=True, return_train_score=True, verbose=verbose)\n",
    "    grid_search.fit(X, y)\n",
    "    return grid_search\n",
    "\n",
    "\n",
    "def table_results(res):\n",
    "    print(f\"Best parameters: {res.best_params_}\")\n",
    "    res = res.cv_results_\n",
    "    df = pd.DataFrame(res['params'])\n",
    "    df['RMSE normalized'] = res['mean_test_score']\n",
    "    return df.to_string(index=False)\n",
    "\n",
    "\n",
    "def evaluate_model(model):\n",
    "    y_pred = model.predict(X_test_scaled).reshape(-1, 1)\n",
    "    normed = root_mean_squared_error(y_test_scaled, y_pred)\n",
    "    print(\n",
    "        f\"RMSE of normalized predictions: {normed:.3f}\")\n",
    "\n",
    "    y_pred = scaler_Y.inverse_transform(y_pred)\n",
    "    unnormed = root_mean_squared_error(y_test, y_pred)\n",
    "    print(\n",
    "        f\"RMSE of unnormalized predictions: {unnormed:.2f}\")\n",
    "    return normed, unnormed"
   ]
  },
  {
   "cell_type": "code",
   "execution_count": 24,
   "metadata": {},
   "outputs": [
    {
     "name": "stdout",
     "output_type": "stream",
     "text": [
      "Fitting 3 folds for each of 20 candidates, totalling 60 fits\n",
      "Best parameters: {'alpha': 10.0, 'fit_intercept': False}\n",
      "    alpha  fit_intercept  RMSE normalized\n",
      " 0.000010          False        -0.249391\n",
      " 0.000010           True        -0.249413\n",
      " 0.000046          False        -0.249391\n",
      " 0.000046           True        -0.249413\n",
      " 0.000215          False        -0.249390\n",
      " 0.000215           True        -0.249413\n",
      " 0.001000          False        -0.249390\n",
      " 0.001000           True        -0.249413\n",
      " 0.004642          False        -0.249390\n",
      " 0.004642           True        -0.249412\n",
      " 0.021544          False        -0.249387\n",
      " 0.021544           True        -0.249410\n",
      " 0.100000          False        -0.249375\n",
      " 0.100000           True        -0.249397\n",
      " 0.464159          False        -0.249317\n",
      " 0.464159           True        -0.249340\n",
      " 2.154435          False        -0.249056\n",
      " 2.154435           True        -0.249078\n",
      "10.000000          False        -0.247948\n",
      "10.000000           True        -0.247970\n",
      "RMSE of normalized predictions: 0.483\n",
      "RMSE of unnormalized predictions: 37332.86\n"
     ]
    }
   ],
   "source": [
    "# model 1\n",
    "model = Ridge()\n",
    "parameters = {'alpha': np.logspace(-5, 1, 10), 'fit_intercept': [False, True]}\n",
    "res = param_search(model, parameters, X_train_scaled, y_train_scaled, K=3)\n",
    "print(table_results(res))\n",
    "evaluate_model(res.best_estimator_)"
   ]
  },
  {
   "cell_type": "code",
   "execution_count": 15,
   "metadata": {},
   "outputs": [
    {
     "name": "stdout",
     "output_type": "stream",
     "text": [
      "Fitting 3 folds for each of 81 candidates, totalling 243 fits\n",
      "Best parameters: {'learning_rate': 0.1, 'max_depth': 3, 'n_estimators': 100, 'subsample': 1.0}\n",
      " learning_rate  max_depth  n_estimators  subsample  RMSE normalized\n",
      "         0.001          3            25        0.8        -0.968408\n",
      "         0.001          3            25        0.9        -0.968670\n",
      "         0.001          3            25        1.0        -0.968513\n",
      "         0.001          3            50        0.8        -0.937278\n",
      "         0.001          3            50        0.9        -0.936589\n",
      "         0.001          3            50        1.0        -0.936828\n",
      "         0.001          3           100        0.8        -0.876920\n",
      "         0.001          3           100        0.9        -0.876815\n",
      "         0.001          3           100        1.0        -0.878100\n",
      "         0.001          5            25        0.8        -0.963734\n",
      "         0.001          5            25        0.9        -0.963111\n",
      "         0.001          5            25        1.0        -0.963192\n",
      "         0.001          5            50        0.8        -0.927596\n",
      "         0.001          5            50        0.9        -0.926339\n",
      "         0.001          5            50        1.0        -0.926008\n",
      "         0.001          5           100        0.8        -0.859218\n",
      "         0.001          5           100        0.9        -0.858101\n",
      "         0.001          5           100        1.0        -0.856926\n",
      "         0.001          9            25        0.8        -0.961508\n",
      "         0.001          9            25        0.9        -0.960813\n",
      "         0.001          9            25        1.0        -0.960263\n",
      "         0.001          9            50        0.8        -0.923225\n",
      "         0.001          9            50        0.9        -0.922164\n",
      "         0.001          9            50        1.0        -0.921384\n",
      "         0.001          9           100        0.8        -0.850342\n",
      "         0.001          9           100        0.9        -0.850251\n",
      "         0.001          9           100        1.0        -0.848702\n",
      "         0.010          3            25        0.8        -0.723957\n",
      "         0.010          3            25        0.9        -0.724846\n",
      "         0.010          3            25        1.0        -0.729072\n",
      "         0.010          3            50        0.8        -0.546399\n",
      "         0.010          3            50        0.9        -0.545567\n",
      "         0.010          3            50        1.0        -0.550974\n",
      "         0.010          3           100        0.8        -0.343747\n",
      "         0.010          3           100        0.9        -0.345621\n",
      "         0.010          3           100        1.0        -0.348231\n",
      "         0.010          5            25        0.8        -0.689320\n",
      "         0.010          5            25        0.9        -0.687023\n",
      "         0.010          5            25        1.0        -0.686304\n",
      "         0.010          5            50        0.8        -0.495553\n",
      "         0.010          5            50        0.9        -0.490707\n",
      "         0.010          5            50        1.0        -0.491300\n",
      "         0.010          5           100        0.8        -0.289615\n",
      "         0.010          5           100        0.9        -0.287110\n",
      "         0.010          5           100        1.0        -0.293914\n",
      "         0.010          9            25        0.8        -0.675116\n",
      "         0.010          9            25        0.9        -0.669216\n",
      "         0.010          9            25        1.0        -0.671221\n",
      "         0.010          9            50        0.8        -0.471581\n",
      "         0.010          9            50        0.9        -0.469554\n",
      "         0.010          9            50        1.0        -0.474155\n",
      "         0.010          9           100        0.8        -0.266908\n",
      "         0.010          9           100        0.9        -0.272143\n",
      "         0.010          9           100        1.0        -0.286317\n",
      "         0.100          3            25        0.8        -0.166835\n",
      "         0.100          3            25        0.9        -0.178036\n",
      "         0.100          3            25        1.0        -0.175456\n",
      "         0.100          3            50        0.8        -0.143242\n",
      "         0.100          3            50        0.9        -0.136700\n",
      "         0.100          3            50        1.0        -0.134392\n",
      "         0.100          3           100        0.8        -0.125967\n",
      "         0.100          3           100        0.9        -0.125946\n",
      "         0.100          3           100        1.0        -0.125716\n",
      "         0.100          5            25        0.8        -0.141812\n",
      "         0.100          5            25        0.9        -0.152209\n",
      "         0.100          5            25        1.0        -0.165235\n",
      "         0.100          5            50        0.8        -0.126635\n",
      "         0.100          5            50        0.9        -0.134327\n",
      "         0.100          5            50        1.0        -0.143319\n",
      "         0.100          5           100        0.8        -0.133434\n",
      "         0.100          5           100        0.9        -0.126114\n",
      "         0.100          5           100        1.0        -0.138607\n",
      "         0.100          9            25        0.8        -0.142252\n",
      "         0.100          9            25        0.9        -0.149859\n",
      "         0.100          9            25        1.0        -0.196340\n",
      "         0.100          9            50        0.8        -0.143875\n",
      "         0.100          9            50        0.9        -0.152889\n",
      "         0.100          9            50        1.0        -0.175541\n",
      "         0.100          9           100        0.8        -0.130085\n",
      "         0.100          9           100        0.9        -0.140202\n",
      "         0.100          9           100        1.0        -0.175970\n",
      "RMSE of normalized predictions: 0.403\n",
      "RMSE of unnormalized predictions: 31135.29\n"
     ]
    }
   ],
   "source": [
    "# Model 2\n",
    "model = GradientBoostingRegressor()\n",
    "parameters ={\n",
    "   'n_estimators': [25, 50, 100],\n",
    "   'learning_rate': [0.001, 0.01, 0.1],\n",
    "   'max_depth': [3, 5, 9],\n",
    "   'subsample':[0.8, 0.9, 1.0],\n",
    "}\n",
    "res = param_search(model, parameters, X_train_scaled,y_train_scaled.squeeze(), K=3)\n",
    "print(table_results(res))\n",
    "evaluate_model(res.best_estimator_)"
   ]
  },
  {
   "cell_type": "code",
   "execution_count": 16,
   "metadata": {},
   "outputs": [
    {
     "name": "stdout",
     "output_type": "stream",
     "text": [
      "Fitting 3 folds for each of 21 candidates, totalling 63 fits\n"
     ]
    },
    {
     "name": "stderr",
     "output_type": "stream",
     "text": [
      "/home/matty/.local/lib/python3.11/site-packages/sklearn/neural_network/_multilayer_perceptron.py:691: ConvergenceWarning: Stochastic Optimizer: Maximum iterations (200) reached and the optimization hasn't converged yet.\n",
      "  warnings.warn(\n",
      "/home/matty/.local/lib/python3.11/site-packages/sklearn/neural_network/_multilayer_perceptron.py:691: ConvergenceWarning: Stochastic Optimizer: Maximum iterations (200) reached and the optimization hasn't converged yet.\n",
      "  warnings.warn(\n",
      "/home/matty/.local/lib/python3.11/site-packages/sklearn/neural_network/_multilayer_perceptron.py:691: ConvergenceWarning: Stochastic Optimizer: Maximum iterations (200) reached and the optimization hasn't converged yet.\n",
      "  warnings.warn(\n",
      "/home/matty/.local/lib/python3.11/site-packages/sklearn/neural_network/_multilayer_perceptron.py:691: ConvergenceWarning: Stochastic Optimizer: Maximum iterations (200) reached and the optimization hasn't converged yet.\n",
      "  warnings.warn(\n",
      "/home/matty/.local/lib/python3.11/site-packages/sklearn/neural_network/_multilayer_perceptron.py:691: ConvergenceWarning: Stochastic Optimizer: Maximum iterations (200) reached and the optimization hasn't converged yet.\n",
      "  warnings.warn(\n",
      "/home/matty/.local/lib/python3.11/site-packages/sklearn/neural_network/_multilayer_perceptron.py:691: ConvergenceWarning: Stochastic Optimizer: Maximum iterations (200) reached and the optimization hasn't converged yet.\n",
      "  warnings.warn(\n",
      "/home/matty/.local/lib/python3.11/site-packages/sklearn/neural_network/_multilayer_perceptron.py:691: ConvergenceWarning: Stochastic Optimizer: Maximum iterations (200) reached and the optimization hasn't converged yet.\n",
      "  warnings.warn(\n",
      "/home/matty/.local/lib/python3.11/site-packages/sklearn/neural_network/_multilayer_perceptron.py:691: ConvergenceWarning: Stochastic Optimizer: Maximum iterations (200) reached and the optimization hasn't converged yet.\n",
      "  warnings.warn(\n",
      "/home/matty/.local/lib/python3.11/site-packages/sklearn/neural_network/_multilayer_perceptron.py:691: ConvergenceWarning: Stochastic Optimizer: Maximum iterations (200) reached and the optimization hasn't converged yet.\n",
      "  warnings.warn(\n",
      "/home/matty/.local/lib/python3.11/site-packages/sklearn/neural_network/_multilayer_perceptron.py:691: ConvergenceWarning: Stochastic Optimizer: Maximum iterations (200) reached and the optimization hasn't converged yet.\n",
      "  warnings.warn(\n",
      "/home/matty/.local/lib/python3.11/site-packages/sklearn/neural_network/_multilayer_perceptron.py:691: ConvergenceWarning: Stochastic Optimizer: Maximum iterations (200) reached and the optimization hasn't converged yet.\n",
      "  warnings.warn(\n"
     ]
    },
    {
     "name": "stdout",
     "output_type": "stream",
     "text": [
      "Best parameters: {'hidden_layer_sizes': (512, 512), 'learning_rate_init': 0.001}\n",
      "hidden_layer_sizes  learning_rate_init  RMSE normalized\n",
      "                32               0.001        -0.245793\n",
      "                32               0.010        -0.322436\n",
      "                32               0.100        -0.339203\n",
      "          (32, 32)               0.001        -0.272423\n",
      "          (32, 32)               0.010        -0.270304\n",
      "          (32, 32)               0.100        -0.333158\n",
      "      (32, 32, 32)               0.001        -0.289484\n",
      "      (32, 32, 32)               0.010        -0.257499\n",
      "      (32, 32, 32)               0.100        -0.795019\n",
      "               128               0.001        -0.283202\n",
      "               128               0.010        -0.287071\n",
      "               128               0.100        -0.325101\n",
      "        (128, 128)               0.001        -0.294699\n",
      "        (128, 128)               0.010        -0.270799\n",
      "        (128, 128)               0.100        -0.419741\n",
      "               512               0.001        -0.261182\n",
      "               512               0.010        -0.263926\n",
      "               512               0.100        -0.552891\n",
      "        (512, 512)               0.001        -0.220536\n",
      "        (512, 512)               0.010        -0.241556\n",
      "        (512, 512)               0.100        -2.158019\n",
      "RMSE of normalized predictions: 0.395\n",
      "RMSE of unnormalized predictions: 30473.95\n"
     ]
    }
   ],
   "source": [
    "# Model 3\n",
    "model = MLPRegressor()\n",
    "parameters ={\n",
    "    \"hidden_layer_sizes\": [\n",
    "        (32),\n",
    "        (32,32),\n",
    "        (32,32,32),\n",
    "        (128),\n",
    "        (128,128),\n",
    "        (512),\n",
    "        (512,512)\n",
    "    ],\n",
    "    \"learning_rate_init\":[\n",
    "        0.001, 0.01,0.1\n",
    "    ]\n",
    "}\n",
    "res = param_search(model, parameters, X_train_scaled,y_train_scaled.squeeze(), K=3)\n",
    "print(table_results(res))\n",
    "evaluate_model(res.best_estimator_)"
   ]
  },
  {
   "cell_type": "markdown",
   "metadata": {},
   "source": [
    "# Training size experiment"
   ]
  },
  {
   "cell_type": "code",
   "execution_count": 40,
   "metadata": {},
   "outputs": [],
   "source": [
    "model1 = Ridge(**{'alpha': 10.0, 'fit_intercept': False})\n",
    "model2 = GradientBoostingRegressor(**{'learning_rate': 0.1, 'max_depth': 3, 'n_estimators': 100, 'subsample': 1.0})\n",
    "model3 = MLPRegressor(**{'hidden_layer_sizes': (512, 512), 'learning_rate_init': 0.001})\n",
    "models = {model1:'ridge', model2:'gradientboosting', model3:'mlp'}"
   ]
  },
  {
   "cell_type": "code",
   "execution_count": 44,
   "metadata": {},
   "outputs": [
    {
     "name": "stdout",
     "output_type": "stream",
     "text": [
      "Ridge(alpha=10.0, fit_intercept=False)\n",
      "RMSE of normalized predictions: 0.782\n",
      "RMSE of unnormalized predictions: 60370.76\n",
      "RMSE of normalized predictions: 0.527\n",
      "RMSE of unnormalized predictions: 40689.35\n",
      "RMSE of normalized predictions: 0.467\n",
      "RMSE of unnormalized predictions: 36099.21\n",
      "RMSE of normalized predictions: 0.461\n",
      "RMSE of unnormalized predictions: 35583.62\n",
      "RMSE of normalized predictions: 0.512\n",
      "RMSE of unnormalized predictions: 39519.07\n",
      "RMSE of normalized predictions: 0.483\n",
      "RMSE of unnormalized predictions: 37332.86\n",
      "GradientBoostingRegressor()\n",
      "RMSE of normalized predictions: 0.987\n",
      "RMSE of unnormalized predictions: 76230.48\n",
      "RMSE of normalized predictions: 0.675\n",
      "RMSE of unnormalized predictions: 52100.08\n",
      "RMSE of normalized predictions: 0.513\n",
      "RMSE of unnormalized predictions: 39625.07\n",
      "RMSE of normalized predictions: 0.381\n",
      "RMSE of unnormalized predictions: 29401.40\n",
      "RMSE of normalized predictions: 0.374\n",
      "RMSE of unnormalized predictions: 28864.81\n",
      "RMSE of normalized predictions: 0.378\n",
      "RMSE of unnormalized predictions: 29156.09\n",
      "MLPRegressor(hidden_layer_sizes=(512, 512))\n",
      "RMSE of normalized predictions: 0.901\n",
      "RMSE of unnormalized predictions: 69619.50\n",
      "RMSE of normalized predictions: 0.545\n",
      "RMSE of unnormalized predictions: 42119.48\n",
      "RMSE of normalized predictions: 0.417\n",
      "RMSE of unnormalized predictions: 32191.75\n",
      "RMSE of normalized predictions: 0.393\n",
      "RMSE of unnormalized predictions: 30381.53\n",
      "RMSE of normalized predictions: 0.392\n",
      "RMSE of unnormalized predictions: 30272.95\n",
      "RMSE of normalized predictions: 0.382\n",
      "RMSE of unnormalized predictions: 29535.13\n"
     ]
    },
    {
     "data": {
      "image/png": "[encoded data removed]",
      "text/plain": [
       "<Figure size 640x480 with 1 Axes>"
      ]
     },
     "metadata": {},
     "output_type": "display_data"
    }
   ],
   "source": [
    "pcts = [0.01, 0.05, 0.10, 0.25, 0.50, 1.00]\n",
    "\n",
    "\n",
    "for model in models:\n",
    "    print(model)\n",
    "    losses = []\n",
    "    for pct in pcts:\n",
    "        m2 = clone(model)\n",
    "        idx = int(len(X_train_scaled) * pct)\n",
    "        xt = X_train_scaled[:idx]\n",
    "        yt = y_train_scaled[:idx].squeeze()\n",
    "        m2.fit(xt, yt)\n",
    "        normed,unnormed = evaluate_model(m2)\n",
    "        losses.append(unnormed)\n",
    "    plt.plot(pcts,losses, label=models[model])\n",
    "\n",
    "plt.xlabel(\"Fraction of training set\")\n",
    "plt.ylabel(\"RMSE of unnormalized labels\")\n",
    "\n",
    "plt.legend()\n",
    "plt.show()\n",
    "        "
   ]
  },
  {
   "cell_type": "code",
   "execution_count": null,
   "metadata": {},
   "outputs": [],
   "source": []
  }
 ],
 "metadata": {
  "kernelspec": {
   "display_name": "Python 3",
   "language": "python",
   "name": "python3"
  },
  "language_info": {
   "codemirror_mode": {
    "name": "ipython",
    "version": 3
   },
   "file_extension": ".py",
   "mimetype": "text/x-python",
   "name": "python",
   "nbconvert_exporter": "python",
   "pygments_lexer": "ipython3",
   "version": "3.11.2"
  }
 },
 "nbformat": 4,
 "nbformat_minor": 2
}
